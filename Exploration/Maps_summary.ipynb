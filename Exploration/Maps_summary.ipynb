{
 "cells": [
  {
   "cell_type": "code",
   "execution_count": 14,
   "metadata": {},
   "outputs": [],
   "source": [
    "import netCDF4\n",
    "from netCDF4 import Dataset\n",
    "import os\n",
    "from os.path import dirname\n",
    "import numpy as np\n",
    "import cartopy.crs as ccrs\n",
    "import cartopy.feature as cfeature\n",
    "from cartopy.mpl.gridliner import LONGITUDE_FORMATTER, LATITUDE_FORMATTER\n",
    "import matplotlib \n",
    "import matplotlib.pyplot as plt\n",
    "from math import pi\n",
    "from numpy import cos,sin\n",
    "from scipy.spatial import cKDTree\n",
    "from numpy import absolute as abs\n",
    "import numpy.ma as ma\n",
    "from ipywidgets import interact, interactive, fixed, interact_manual"
   ]
  },
  {
   "cell_type": "code",
   "execution_count": 2,
   "metadata": {},
   "outputs": [],
   "source": [
    "## Chose folder, resolution and dataset\n",
    "\n",
    "resolution = '10m' # Change border resolution for the maps. Insert value in meters (e.g. '110m')\n",
    "folder = dirname(dirname(os.getcwd())) + '\\\\Data_WQ\\\\' #The folder where the datasets are\n",
    "\n",
    "'''\n",
    "Choose the dataset:\n",
    "    1: CHL-model\n",
    "    2: CHL-satellite\n",
    "    3: DOXYL-model\n",
    "    4: NITR-model\n",
    "    5: PHOS-model\n",
    "    6: SPM-satellite\n",
    "'''\n",
    "num_dataset = 1 #Change the number here"
   ]
  },
  {
   "cell_type": "code",
   "execution_count": 3,
   "metadata": {},
   "outputs": [
    {
     "name": "stdout",
     "output_type": "stream",
     "text": [
      "Using dataset C:\\Users\\Rafael\\Google Drive\\Rafi\\Delft\\Mathematical Data Science\\Project\\Data_WQ\\dataset-CHL-model-daily.nc\n"
     ]
    }
   ],
   "source": [
    "## Open dataset and store variables in var_values dictionary. Units are in var_units dictionary. Names in var_names\n",
    "\n",
    "# Open dataset\n",
    "if num_dataset == 2:\n",
    "    file = folder + \"dataset-CHL-satellite-daily.nc\"\n",
    "    selected_variable = 'CHL'\n",
    "    text = 'Mass concentration of chlorophyll-a in sea water - satellite'\n",
    "elif num_dataset == 3:\n",
    "    file = folder + \"dataset-DOXYL-model-daily.nc\"\n",
    "    selected_variable = 'o2'\n",
    "    text = 'Mole concentration of dissolved molecular oxygen in sea water - model'\n",
    "elif num_dataset == 4:\n",
    "    file = folder + \"dataset-NITR-model-daily.nc\"\n",
    "    selected_variable = 'no3'\n",
    "    text = 'Mole concentration of nitrate in sea water - model'\n",
    "elif num_dataset == 5:\n",
    "    file = folder + \"dataset-PHOS-model-daily.nc\"\n",
    "    selected_variable = 'po4'\n",
    "    text = 'Mole concentration of phosphate in sea water - model'\n",
    "elif num_dataset == 6:\n",
    "    file = folder + \"dataset-SPM-satellite-monthly.nc\"\n",
    "    selected_variable = 'SPM'\n",
    "    text = 'Mass concentration of inorganic suspended matter in sea water - satellite'\n",
    "else:\n",
    "    file = folder + \"dataset-CHL-model-daily.nc\"\n",
    "    selected_variable = 'chl'\n",
    "    text = 'Mass concentration of chlorophyll-a in sea water - model'\n",
    "\n",
    "dataset = Dataset(file, \"r\")\n",
    "print('Using dataset {}'.format(file))\n",
    "\n",
    "# Save variables, units and names\n",
    "var_values = {}\n",
    "var_units = {}\n",
    "var_names = {}\n",
    "for k in dataset.variables.keys():\n",
    "    # Standardize keys 'latitude' and 'longitude'\n",
    "    if k == 'lat':\n",
    "        k_new = 'latitude'\n",
    "    elif k == 'lon':\n",
    "        k_new = 'longitude'\n",
    "    else:\n",
    "        k_new = k\n",
    "  \n",
    "    var_units[k_new] = dataset.variables[k].units # Save units\n",
    "    var_names[k_new] = dataset.variables[k].long_name # Save name\n",
    "    if 'time' in var_names[k_new]: #Save time\n",
    "        var_values[k_new] = netCDF4.num2date(dataset.variables[k][:],var_units[k_new], only_use_cftime_datetimes=False, only_use_python_datetimes = True)\n",
    "    else:\n",
    "        var_values[k_new] = dataset.variables[k][:]\n",
    "    \n",
    "    # Remove single-dimensional entries\n",
    "    var_values[k_new] = np.squeeze(var_values[k_new])\n",
    "        \n",
    "# Close dataset\n",
    "dataset.close()"
   ]
  },
  {
   "cell_type": "code",
   "execution_count": 20,
   "metadata": {},
   "outputs": [
    {
     "data": {
      "text/plain": [
       "masked_array(\n",
       "  data=[[--, --, --, ..., --, --, --],\n",
       "        [--, --, --, ..., --, --, --],\n",
       "        [--, --, --, ..., --, --, --],\n",
       "        ...,\n",
       "        [0.6748787021128767, 0.7045210888243567, 0.6859229155353349, ...,\n",
       "         --, --, --],\n",
       "        [0.6705110871385946, 0.6831806251973709, 0.6461629688869077, ...,\n",
       "         --, --, --],\n",
       "        [0.7669922327903136, 0.7352047260727398, 0.6719659952994583, ...,\n",
       "         --, --, --]],\n",
       "  mask=[[ True,  True,  True, ...,  True,  True,  True],\n",
       "        [ True,  True,  True, ...,  True,  True,  True],\n",
       "        [ True,  True,  True, ...,  True,  True,  True],\n",
       "        ...,\n",
       "        [False, False, False, ...,  True,  True,  True],\n",
       "        [False, False, False, ...,  True,  True,  True],\n",
       "        [False, False, False, ...,  True,  True,  True]],\n",
       "  fill_value=-32768)"
      ]
     },
     "execution_count": 20,
     "metadata": {},
     "output_type": "execute_result"
    }
   ],
   "source": [
    "var_values[selected_variable].std(axis=0)"
   ]
  },
  {
   "cell_type": "code",
   "execution_count": 21,
   "metadata": {},
   "outputs": [],
   "source": [
    "## Plot\n",
    "\n",
    "def plot_map_summary(sel):\n",
    "    if sel == 'Max':\n",
    "        var_plot = var_values[selected_variable].max(axis=0)\n",
    "    elif sel == 'Min':\n",
    "        var_plot = var_values[selected_variable].min(axis=0)\n",
    "    elif sel == 'Mean':\n",
    "        var_plot = var_values[selected_variable].mean(axis=0)\n",
    "    elif sel == 'Deviation':\n",
    "        var_plot = var_values[selected_variable].std(axis=0)\n",
    "    else:\n",
    "        var_plot = var_values[selected_variable].max(axis=0)\n",
    "    text_plot = sel + \" of \" + text \n",
    "\n",
    "    # Initialize plot\n",
    "    matplotlib.rcParams['figure.figsize'] = (10,10) \n",
    "\n",
    "    # Initialize map\n",
    "    proj=ccrs.Mercator()\n",
    "    m = plt.axes(projection=proj)\n",
    "\n",
    "    # Format map\n",
    "    m.stock_img()\n",
    "    #m.coastlines(resolution='110m')\n",
    "    m.coastlines(resolution=resolution)\n",
    "    m.add_feature(cfeature.BORDERS)\n",
    "    gl=m.gridlines(crs=ccrs.PlateCarree(), draw_labels=True,\n",
    "                      linewidth=2, color='gray', alpha=0.5, linestyle='--')\n",
    "    gl.xformatter = LONGITUDE_FORMATTER\n",
    "    gl.yformatter = LATITUDE_FORMATTER\n",
    "    gl.xlabels_top = False\n",
    "    gl.ylabels_right = False\n",
    "\n",
    "    # Plot data\n",
    "    plt.contourf(var_values['longitude'], var_values['latitude'], var_plot, 60,\n",
    "                 transform=ccrs.PlateCarree())\n",
    "\n",
    "    # Add Colorbar\n",
    "    cbar = plt.colorbar()\n",
    "    cbar.set_label(var_units[selected_variable])\n",
    "\n",
    "    # Add Title\n",
    "    plt.title(text_plot)\n",
    "    plt.show()"
   ]
  },
  {
   "cell_type": "code",
   "execution_count": 22,
   "metadata": {},
   "outputs": [
    {
     "data": {
      "application/vnd.jupyter.widget-view+json": {
       "model_id": "57b8476a28244a24a22edb1d02c4210b",
       "version_major": 2,
       "version_minor": 0
      },
      "text/plain": [
       "interactive(children=(Dropdown(description='sel', options=('Max', 'Min', 'Mean', 'Deviation'), value='Max'), B…"
      ]
     },
     "metadata": {},
     "output_type": "display_data"
    },
    {
     "data": {
      "text/plain": [
       "<function __main__.plot_map_summary(sel)>"
      ]
     },
     "execution_count": 22,
     "metadata": {},
     "output_type": "execute_result"
    }
   ],
   "source": [
    "interact_manual(plot_map_summary, sel=['Max', 'Min', 'Mean', 'Deviation'])"
   ]
  },
  {
   "cell_type": "code",
   "execution_count": null,
   "metadata": {},
   "outputs": [],
   "source": []
  }
 ],
 "metadata": {
  "kernelspec": {
   "display_name": "Python 3",
   "language": "python",
   "name": "python3"
  },
  "language_info": {
   "codemirror_mode": {
    "name": "ipython",
    "version": 3
   },
   "file_extension": ".py",
   "mimetype": "text/x-python",
   "name": "python",
   "nbconvert_exporter": "python",
   "pygments_lexer": "ipython3",
   "version": "3.8.2"
  }
 },
 "nbformat": 4,
 "nbformat_minor": 4
}
