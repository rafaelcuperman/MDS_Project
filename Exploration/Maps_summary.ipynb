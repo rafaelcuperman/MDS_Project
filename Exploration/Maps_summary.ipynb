{
 "cells": [
  {
   "cell_type": "code",
   "execution_count": 34,
   "metadata": {},
   "outputs": [],
   "source": [
    "import netCDF4\n",
    "from netCDF4 import Dataset\n",
    "import os\n",
    "from os.path import dirname\n",
    "import numpy as np\n",
    "import cartopy.crs as ccrs\n",
    "import cartopy.feature as cfeature\n",
    "from cartopy.mpl.gridliner import LONGITUDE_FORMATTER, LATITUDE_FORMATTER\n",
    "import matplotlib \n",
    "import matplotlib.pyplot as plt\n",
    "from math import pi\n",
    "from numpy import cos,sin\n",
    "from scipy.spatial import cKDTree\n",
    "from numpy import absolute as abs\n",
    "import numpy.ma as ma\n",
    "from ipywidgets import interact, interactive, fixed, interact_manual\n",
    "from matplotlib import ticker\n",
    "import ipywidgets as widgets\n"
   ]
  },
  {
   "cell_type": "code",
   "execution_count": 10,
   "metadata": {},
   "outputs": [],
   "source": [
    "# Choose folder and resolution\n",
    "#folder = dirname(dirname(os.getcwd())) + '\\\\Data_WQ\\\\' #The folder where the datasets are\n",
    "folder = r\"C:\\Users\\Rafael\\Documents\\Local\\Mathematical Data Science\\Project\\Data_WQ\\\\\"\n",
    "resolution = '110m' # Change border resolution for the maps. Insert value in meters (e.g. '100m')"
   ]
  },
  {
   "cell_type": "code",
   "execution_count": 2,
   "metadata": {},
   "outputs": [],
   "source": [
    "## Open dataset and store variables in var_values dictionary. Units are in var_units dictionary. Names in var_names\n",
    "'''\n",
    "Datasets:\n",
    "    1: CHL-model\n",
    "    2: CHL-satellite\n",
    "    3: DOXYL-model\n",
    "    4: NITR-model\n",
    "    5: PHOS-model\n",
    "    6: SPM-satellite\n",
    "'''\n",
    "# Define global variables\n",
    "\n",
    "def select_dataset(num_dataset):\n",
    "    # Define global variables\n",
    "    global var_values, var_units, var_names, selected_variable, text, years_list, years_select, years\n",
    "    \n",
    "    # Open dataset\n",
    "    if num_dataset == 2:\n",
    "        file = folder + \"dataset-CHL-satellite-daily.nc\"\n",
    "        selected_variable = 'CHL'\n",
    "        text = 'Mass concentration of chlorophyll-a in sea water - satellite'\n",
    "    elif num_dataset == 3:\n",
    "        file = folder + \"dataset-DOXYL-model-daily.nc\"\n",
    "        selected_variable = 'o2'\n",
    "        text = 'Mole concentration of dissolved molecular oxygen in sea water - model'\n",
    "    elif num_dataset == 4:\n",
    "        file = folder + \"dataset-NITR-model-daily.nc\"\n",
    "        selected_variable = 'no3'\n",
    "        text = 'Mole concentration of nitrate in sea water - model'\n",
    "    elif num_dataset == 5:\n",
    "        file = folder + \"dataset-PHOS-model-daily.nc\"\n",
    "        selected_variable = 'po4'\n",
    "        text = 'Mole concentration of phosphate in sea water - model'\n",
    "    elif num_dataset == 6:\n",
    "        file = folder + \"dataset-SPM-satellite-monthly.nc\"\n",
    "        selected_variable = 'SPM'\n",
    "        text = 'Mass concentration of inorganic suspended matter in sea water - satellite'\n",
    "    else:\n",
    "        file = folder + \"dataset-CHL-model-daily.nc\"\n",
    "        selected_variable = 'chl'\n",
    "        text = 'Mass concentration of chlorophyll-a in sea water - model'\n",
    "\n",
    "    dataset = Dataset(file, \"r\")\n",
    "\n",
    "\n",
    "    var_values = {}\n",
    "    var_units = {}\n",
    "    var_names = {}\n",
    "\n",
    "    for k in dataset.variables.keys():\n",
    "        # Standardize keys 'latitude' and 'longitude'\n",
    "        if k == 'lat':\n",
    "            k_new = 'latitude'\n",
    "        elif k == 'lon':\n",
    "            k_new = 'longitude'\n",
    "        else:\n",
    "            k_new = k\n",
    "\n",
    "        var_units[k_new] = dataset.variables[k].units # Save units\n",
    "        var_names[k_new] = dataset.variables[k].long_name # Save name\n",
    "        if 'time' in var_names[k_new]: #Save time\n",
    "            var_values[k_new] = netCDF4.num2date(dataset.variables[k][:],var_units[k_new], only_use_cftime_datetimes=False, only_use_python_datetimes = True)\n",
    "        else:\n",
    "            var_values[k_new] = dataset.variables[k][:]\n",
    "\n",
    "        # Remove single-dimensional entries\n",
    "        var_values[k_new] = np.squeeze(var_values[k_new])\n",
    "\n",
    "    # Close dataset\n",
    "    dataset.close()\n",
    "\n",
    "    years_list = list(map(lambda i : int(i.strftime(\"%Y\")), var_values['time']))\n",
    "    years_select = set(map(lambda i : int(i.strftime(\"%Y\")), var_values['time']))\n",
    "    years = set(map(lambda i : int(i.strftime(\"%Y\")), var_values['time']))\n",
    "    years_select.add('All')\n",
    "    \n",
    "    print('Dataset loaded. Using dataset {}'.format(file))"
   ]
  },
  {
   "cell_type": "code",
   "execution_count": 47,
   "metadata": {},
   "outputs": [],
   "source": [
    "## List of years and indices\n",
    "\n",
    "def plot_map_summary(sel, year, fixed_colorbar, min_colorbar, max_colorbar):\n",
    "    \n",
    "    if min_colorbar >= max_colorbar and fixed_colorbar == True:\n",
    "        print('Error. The minimum limit for the colorbar must be smaller than the maximum limit of the colorbar')\n",
    "        return\n",
    "    \n",
    "    text_plot = sel + \" of \" + text \n",
    "    \n",
    "    if year == 'All':\n",
    "        tmp = var_values[selected_variable]\n",
    "    else:\n",
    "        tmp = var_values[selected_variable][list(np.where(np.asarray(years_list) == year)[0]),:,:]\n",
    "        text_plot += ' - ' + str(year)\n",
    "    if sel == 'Max':\n",
    "        var_plot = tmp.max(axis=0)\n",
    "    elif sel == 'Min':\n",
    "        var_plot = tmp.min(axis=0)\n",
    "    elif sel == 'Mean':\n",
    "        var_plot = tmp.mean(axis=0)\n",
    "    elif sel == 'Deviation':\n",
    "        var_plot = tmp.std(axis=0)\n",
    "    elif sel == 'Argmax':\n",
    "        var_plot = tmp.argmax(axis=0)\n",
    "        var_plot = ma.masked_where(var_plot == 0, var_plot)\n",
    "    elif sel == 'Argmin':\n",
    "        var_plot = tmp.argmin(axis=0)\n",
    "        var_plot = ma.masked_where(var_plot == 0, var_plot)\n",
    "    else:\n",
    "        var_plot = var_values[selected_variable].max(axis=0)     \n",
    "        \n",
    "    # Initialize plot\n",
    "    matplotlib.rcParams['figure.figsize'] = (10,10) \n",
    "\n",
    "    # Initialize map\n",
    "    proj=ccrs.Mercator()\n",
    "    m = plt.axes(projection=proj)\n",
    "\n",
    "    # Format map\n",
    "    m.stock_img()\n",
    "    m.coastlines(resolution=resolution)\n",
    "    m.add_feature(cfeature.BORDERS)\n",
    "    gl=m.gridlines(crs=ccrs.PlateCarree(), draw_labels=True,\n",
    "                      linewidth=2, color='gray', alpha=0.5, linestyle='--')\n",
    "    gl.xformatter = LONGITUDE_FORMATTER\n",
    "    gl.yformatter = LATITUDE_FORMATTER\n",
    "    gl.xlabels_top = False\n",
    "    gl.ylabels_right = False\n",
    "\n",
    "    # Plot data\n",
    "\n",
    "    if sel == 'Argmax' or sel == 'Argmin':\n",
    "        plt.contourf(var_values['longitude'], var_values['latitude'], var_plot, 60, transform=ccrs.PlateCarree())\n",
    "        # Add Colorbar\n",
    "        cbar = plt.colorbar()\n",
    "        if year == 'All':\n",
    "            tick_locator = ticker.MaxNLocator(nbins=len(years))\n",
    "            cbar.locator = tick_locator\n",
    "            cbar.update_ticks()\n",
    "            cbar.ax.set_yticklabels(years)\n",
    "            cbar.set_label('Date')\n",
    "        else:\n",
    "            tick_locator = ticker.MaxNLocator(nbins=13)\n",
    "            cbar.locator = tick_locator\n",
    "            cbar.update_ticks()\n",
    "            cbar.ax.set_yticklabels(list(np.floor(np.linspace(start=1, stop=tmp.shape[0], num=13)).astype(int)))\n",
    "            cbar.set_label('Day of ' + str(year))\n",
    "    else:\n",
    "        if fixed_colorbar == True:\n",
    "            levels = np.linspace(min_colorbar, max_colorbar, 60)\n",
    "        else:\n",
    "            levels = 60\n",
    "        try:\n",
    "            plt.contourf(var_values['longitude'], var_values['latitude'], var_plot, levels, transform=ccrs.PlateCarree())\n",
    "        except ValueError:\n",
    "            print('No values found for the selected colorbar limits. Please increase the range')\n",
    "            return \n",
    "        # Add Colorbar\n",
    "        cbar = plt.colorbar()\n",
    "        cbar.set_label(var_units[selected_variable])\n",
    "\n",
    "    # Add Title\n",
    "    plt.title(text_plot)\n",
    "    plt.show()"
   ]
  },
  {
   "cell_type": "code",
   "execution_count": 51,
   "metadata": {},
   "outputs": [],
   "source": [
    "#Plot behaviuor thoughout years\n",
    "#you can later select if you want to view min max mean or sd\n",
    "\n",
    "def summary_years(sel):\n",
    "    plt.figure(figsize=(16,4))\n",
    "    text_plot = sel + \" of \" + text \n",
    "    tmp = var_values[selected_variable]\n",
    "    years_list = list(map(lambda i : int(i.strftime(\"%Y\")), var_values['time']))\n",
    "    x = np.linspace(1998, 2018, 21)\n",
    "    \n",
    "        \n",
    "    if sel == 'Max':\n",
    "        maxi=[]\n",
    "        for year in range(1998,2019,1):\n",
    "            A=var_values[selected_variable][list(np.where(np.asarray(years_list) == year)),:,:]\n",
    "            maxi=np.append(maxi,A.max())\n",
    "        plt.plot(x,maxi)\n",
    "        plt.xlabel('years')\n",
    "               \n",
    "    elif sel == 'Min':\n",
    "        mini=[]\n",
    "        for year in range(1998,2019,1):\n",
    "            A=var_values[selected_variable][list(np.where(np.asarray(years_list) == year)),:,:]\n",
    "            mini=np.append(mini,A.min())\n",
    "        plt.plot(x,mini)\n",
    "        plt.xlabel('years')\n",
    "        \n",
    "    elif sel == 'Mean':\n",
    "        mean=[]\n",
    "        for year in range(1998,2019,1):\n",
    "            A=var_values[selected_variable][list(np.where(np.asarray(years_list) == year)),:,:]\n",
    "            mean=np.append(mean,A.mean())\n",
    "        plt.plot(x,mean)\n",
    "        plt.xlabel('years')\n",
    "        \n",
    "    elif sel == 'Deviation':\n",
    "        dv=[]\n",
    "        for year in range(1998,2019,1):\n",
    "            A=var_values[selected_variable][list(np.where(np.asarray(years_list) == year)),:,:]\n",
    "            dv=np.append(dv,A.std())\n",
    "        plt.plot(x,dv)\n",
    "        plt.xlabel('years')\n",
    "    \n",
    "\n",
    "    # Add Title\n",
    "    plt.title(text_plot)\n",
    "    plt.xlabel('years')\n",
    "    plt.xticks(x)"
   ]
  },
  {
   "cell_type": "code",
   "execution_count": 53,
   "metadata": {},
   "outputs": [],
   "source": [
    "#plot behaviuours thoughout months\n",
    "#you can later select if you want to view min max mean or sd\n",
    "\n",
    "def summary_months(sel):\n",
    "    plt.figure(figsize=(16,4))\n",
    "    text_plot = sel + \" of \" + text \n",
    "    tmp = var_values[selected_variable]\n",
    "    month_list=list(map(lambda i : int(i.strftime(\"%m\")), var_values['time']))\n",
    "    xm = np.linspace(1,12,12)\n",
    "    \n",
    "        \n",
    "    if sel == 'Max':\n",
    "        maxim=[]\n",
    "        for month in range(1,13,1):\n",
    "            Am=var_values[selected_variable][list(np.where(np.asarray(month_list) == month)),:,:]\n",
    "            maxim=np.append(maxim,Am.max())\n",
    "        plt.plot(xm,maxim)\n",
    "        plt.xlabel('months')\n",
    "        plt.title(text_plot)\n",
    "               \n",
    "    elif sel == 'Min':\n",
    "        minim=[]\n",
    "        for month in range(1,13,1):\n",
    "            Am=var_values[selected_variable][list(np.where(np.asarray(month_list) == month)),:,:]\n",
    "            minim=np.append(minim,Am.min())\n",
    "        plt.plot(xm,minim)\n",
    "        plt.xlabel('months')\n",
    "        plt.title(text_plot)\n",
    "        \n",
    "    elif sel == 'Mean':\n",
    "        meanm=[]\n",
    "        for month in range(1,13,1):\n",
    "            Am=var_values[selected_variable][list(np.where(np.asarray(month_list) == month)),:,:]\n",
    "            meanm=np.append(meanm,Am.mean())\n",
    "        plt.plot(xm,meanm)\n",
    "        plt.xlabel('months')\n",
    "        plt.title(text_plot)\n",
    "        \n",
    "    elif sel == 'Deviation':\n",
    "        dvm=[]\n",
    "        for month in range(1,13,1):\n",
    "            Am=var_values[selected_variable][list(np.where(np.asarray(month_list) == month)),:,:]\n",
    "            dvm=np.append(dvm,Am.std())\n",
    "        plt.plot(xm,dvm)\n",
    "        plt.xlabel('months')\n",
    "        plt.title(text_plot)\n",
    "        \n",
    "    plt.xticks(xm)"
   ]
  },
  {
   "cell_type": "code",
   "execution_count": 35,
   "metadata": {},
   "outputs": [
    {
     "name": "stdout",
     "output_type": "stream",
     "text": [
      "Choose dataset\n"
     ]
    },
    {
     "data": {
      "application/vnd.jupyter.widget-view+json": {
       "model_id": "f2d6a05cfbfb4a90a4907e4e61c352aa",
       "version_major": 2,
       "version_minor": 0
      },
      "text/plain": [
       "interactive(children=(Dropdown(description='num_dataset', options=(('Chlorophyll-model', 1), ('Chlorophyll-sat…"
      ]
     },
     "metadata": {},
     "output_type": "display_data"
    },
    {
     "name": "stdout",
     "output_type": "stream",
     "text": [
      "----------------------------------------------------------------------------------------------\n"
     ]
    }
   ],
   "source": [
    "print('Choose dataset')\n",
    "interact_manual(select_dataset, num_dataset=[('Chlorophyll-model', 1), ('Chlorophyll-satellite', 2), ('Oxygen-model', 3), ('Nitrate-model', 4), ('Phosphate-model', 5), ('Suspended matter-satellite', 6)])\n",
    "print('----------------------------------------------------------------------------------------------')"
   ]
  },
  {
   "cell_type": "code",
   "execution_count": 48,
   "metadata": {},
   "outputs": [
    {
     "name": "stdout",
     "output_type": "stream",
     "text": [
      "IMPORTANT: Read the dataset (previous cell) before running this cell for the first time\n",
      "This interactive map plots the max, min, mean and standard deviation of the variable for each coordinate during a specific year or during the whole timelapse of the dataset\n"
     ]
    },
    {
     "data": {
      "application/vnd.jupyter.widget-view+json": {
       "model_id": "70b8a4ba057d4332a90699870efd4a2d",
       "version_major": 2,
       "version_minor": 0
      },
      "text/plain": [
       "interactive(children=(Dropdown(description='sel', options=('Max', 'Min', 'Mean', 'Deviation', 'Argmax', 'Argmi…"
      ]
     },
     "metadata": {},
     "output_type": "display_data"
    },
    {
     "data": {
      "text/plain": [
       "<function __main__.plot_map_summary(sel, year, fixed_colorbar, min_colorbar, max_colorbar)>"
      ]
     },
     "execution_count": 48,
     "metadata": {},
     "output_type": "execute_result"
    }
   ],
   "source": [
    "print('IMPORTANT: Read the dataset (previous cell) before running this cell for the first time')\n",
    "print('This interactive map plots the max, min, mean and standard deviation of the variable for each coordinate during a specific year or during the whole timelapse of the dataset')\n",
    "\n",
    "max_colorbar_input = widgets.BoundedFloatText(value=0,min=0,max=100,step=0.1,description='Max colorbar value:',disabled=False)\n",
    "min_colorbar_input = widgets.BoundedFloatText(value=0,min=0,max=100,step=0.1,description='Min colorbar value:',disabled=False)\n",
    "auto_colorbar_checkbox = widgets.Checkbox(value=False,description='Fix manually the values for the colorbar:',disabled=False,indent=False)\n",
    "\n",
    "interact_manual(plot_map_summary, sel=['Max', 'Min', 'Mean', 'Deviation', 'Argmax', 'Argmin'], year = years_select, fixed_colorbar = auto_colorbar_checkbox, min_colorbar=min_colorbar_input, max_colorbar=max_colorbar_input)"
   ]
  },
  {
   "cell_type": "code",
   "execution_count": 55,
   "metadata": {},
   "outputs": [
    {
     "data": {
      "application/vnd.jupyter.widget-view+json": {
       "model_id": "1e4555d94163499598a7c1b7482e72b3",
       "version_major": 2,
       "version_minor": 0
      },
      "text/plain": [
       "interactive(children=(Dropdown(description='sel', options=('Max', 'Min', 'Mean', 'Deviation'), value='Max'), B…"
      ]
     },
     "metadata": {},
     "output_type": "display_data"
    },
    {
     "data": {
      "text/plain": [
       "<function __main__.summary_years(sel)>"
      ]
     },
     "execution_count": 55,
     "metadata": {},
     "output_type": "execute_result"
    }
   ],
   "source": [
    "interact_manual(summary_years, sel=['Max', 'Min', 'Mean', 'Deviation', ])"
   ]
  },
  {
   "cell_type": "code",
   "execution_count": 56,
   "metadata": {},
   "outputs": [
    {
     "data": {
      "application/vnd.jupyter.widget-view+json": {
       "model_id": "dbf22425343b4bdf8232c63c13db5c38",
       "version_major": 2,
       "version_minor": 0
      },
      "text/plain": [
       "interactive(children=(Dropdown(description='sel', options=('Max', 'Min', 'Mean', 'Deviation'), value='Max'), B…"
      ]
     },
     "metadata": {},
     "output_type": "display_data"
    },
    {
     "data": {
      "text/plain": [
       "<function __main__.summary_months(sel)>"
      ]
     },
     "execution_count": 56,
     "metadata": {},
     "output_type": "execute_result"
    }
   ],
   "source": [
    "interact_manual(summary_months, sel=['Max', 'Min', 'Mean', 'Deviation', ])"
   ]
  },
  {
   "cell_type": "code",
   "execution_count": null,
   "metadata": {},
   "outputs": [],
   "source": []
  }
 ],
 "metadata": {
  "kernelspec": {
   "display_name": "Python 3",
   "language": "python",
   "name": "python3"
  },
  "language_info": {
   "codemirror_mode": {
    "name": "ipython",
    "version": 3
   },
   "file_extension": ".py",
   "mimetype": "text/x-python",
   "name": "python",
   "nbconvert_exporter": "python",
   "pygments_lexer": "ipython3",
   "version": "3.8.2"
  }
 },
 "nbformat": 4,
 "nbformat_minor": 4
}
