{
 "cells": [
  {
   "cell_type": "code",
   "execution_count": 1,
   "metadata": {},
   "outputs": [],
   "source": [
    "import netCDF4\n",
    "from netCDF4 import Dataset\n",
    "import os\n",
    "from os.path import dirname\n",
    "import numpy as np\n",
    "import cartopy.crs as ccrs\n",
    "import cartopy.feature as cfeature\n",
    "from cartopy.mpl.gridliner import LONGITUDE_FORMATTER, LATITUDE_FORMATTER\n",
    "import matplotlib \n",
    "import matplotlib.pyplot as plt\n",
    "from math import pi\n",
    "from numpy import cos,sin\n",
    "from scipy.spatial import cKDTree\n",
    "from numpy import absolute as abs\n",
    "import numpy.ma as ma\n",
    "from ipywidgets import interact, interactive, fixed, interact_manual\n",
    "from matplotlib import ticker\n",
    "import ipywidgets as widgets"
   ]
  },
  {
   "cell_type": "code",
   "execution_count": 2,
   "metadata": {},
   "outputs": [],
   "source": [
    "# Choose folder and resolution\n",
    "#folder = dirname(dirname(os.getcwd())) + '\\\\Data_WQ\\\\' #The folder where the datasets are\n",
    "folder = r\"C:\\Users\\Rafael\\Documents\\Local\\Mathematical Data Science\\Project\\Data_WQ\\\\\"\n",
    "resolution = '110m' # Change border resolution for the maps. Insert value in meters (e.g. '100m')"
   ]
  },
  {
   "cell_type": "code",
   "execution_count": 3,
   "metadata": {},
   "outputs": [],
   "source": [
    "## Open dataset and store variables in var_values dictionary. Units are in var_units dictionary. Names in var_names\n",
    "'''\n",
    "Datasets:\n",
    "    1: CHL-model\n",
    "    2: CHL-satellite\n",
    "    3: DOXYL-model\n",
    "    4: NITR-model\n",
    "    5: PHOS-model\n",
    "    6: SPM-satellite\n",
    "'''\n",
    "\n",
    "\n",
    "def select_dataset(num_dataset):\n",
    "    # Define global variables\n",
    "    global var_values, var_units, var_names, selected_variable, text, years_list, years_select, years\n",
    "    \n",
    "    # Open dataset\n",
    "    if num_dataset == 2:\n",
    "        file = folder + \"dataset-CHL-satellite-daily.nc\"\n",
    "        selected_variable = 'CHL'\n",
    "        text = 'Mass concentration of chlorophyll-a in sea water - satellite'\n",
    "    elif num_dataset == 3:\n",
    "        file = folder + \"dataset-DOXYL-model-daily.nc\"\n",
    "        selected_variable = 'o2'\n",
    "        text = 'Mole concentration of dissolved molecular oxygen in sea water - model'\n",
    "    elif num_dataset == 4:\n",
    "        file = folder + \"dataset-NITR-model-daily.nc\"\n",
    "        selected_variable = 'no3'\n",
    "        text = 'Mole concentration of nitrate in sea water - model'\n",
    "    elif num_dataset == 5:\n",
    "        file = folder + \"dataset-PHOS-model-daily.nc\"\n",
    "        selected_variable = 'po4'\n",
    "        text = 'Mole concentration of phosphate in sea water - model'\n",
    "    elif num_dataset == 6:\n",
    "        file = folder + \"dataset-SPM-satellite-monthly.nc\"\n",
    "        selected_variable = 'SPM'\n",
    "        text = 'Mass concentration of inorganic suspended matter in sea water - satellite'\n",
    "    else:\n",
    "        file = folder + \"dataset-CHL-model-daily.nc\"\n",
    "        selected_variable = 'chl'\n",
    "        text = 'Mass concentration of chlorophyll-a in sea water - model'\n",
    "\n",
    "    dataset = Dataset(file, \"r\")\n",
    "\n",
    "\n",
    "    var_values = {}\n",
    "    var_units = {}\n",
    "    var_names = {}\n",
    "\n",
    "    for k in dataset.variables.keys():\n",
    "        # Standardize keys 'latitude' and 'longitude'\n",
    "        if k == 'lat':\n",
    "            k_new = 'latitude'\n",
    "        elif k == 'lon':\n",
    "            k_new = 'longitude'\n",
    "        else:\n",
    "            k_new = k\n",
    "\n",
    "        var_units[k_new] = dataset.variables[k].units # Save units\n",
    "        var_names[k_new] = dataset.variables[k].long_name # Save name\n",
    "        if 'time' in var_names[k_new]: #Save time\n",
    "            var_values[k_new] = netCDF4.num2date(dataset.variables[k][:],var_units[k_new], only_use_cftime_datetimes=False, only_use_python_datetimes = True)\n",
    "        else:\n",
    "            var_values[k_new] = dataset.variables[k][:]\n",
    "\n",
    "        # Remove single-dimensional entries\n",
    "        var_values[k_new] = np.squeeze(var_values[k_new])\n",
    "\n",
    "    # Close dataset\n",
    "    dataset.close()\n",
    "    print('Dataset loaded. Using dataset {}'.format(file))"
   ]
  },
  {
   "cell_type": "code",
   "execution_count": 4,
   "metadata": {},
   "outputs": [],
   "source": [
    "def plot_timeseries(lat, lon):\n",
    "    # Find the nearest latitude and longitude\n",
    "    lat_idx = np.abs(var_values['latitude'] - lat).argmin()\n",
    "    lon_idx = np.abs(var_values['longitude'] - lon).argmin()\n",
    "    print('Closest lat-lon:', var_values['latitude'][lat_idx], var_values['longitude'][lon_idx])\n",
    "    \n",
    "    # Get all time records of variable at indices [iy,ix]\n",
    "    all_records_coordinates = var_values[selected_variable][:,lat_idx,lon_idx]\n",
    "    if ma.is_masked(var_values[selected_variable][:,lat_idx,lon_idx]):\n",
    "        print('No data in that coordinate')\n",
    "\n",
    "    # Plot time series\n",
    "    plt.figure(figsize=(16,4))\n",
    "    plt.plot_date(var_values['time'],all_records_coordinates,fmt='-')\n",
    "    plt.grid()\n",
    "    plt.ylabel(var_units[selected_variable])\n",
    "    \n",
    "    plt.title('%s at Lon=%.2f, Lat=%.2f' % (text, var_values['longitude'][lon_idx], var_values['latitude'][lat_idx]))"
   ]
  },
  {
   "cell_type": "code",
   "execution_count": 5,
   "metadata": {},
   "outputs": [
    {
     "name": "stdout",
     "output_type": "stream",
     "text": [
      "Choose dataset\n"
     ]
    },
    {
     "data": {
      "application/vnd.jupyter.widget-view+json": {
       "model_id": "cf06078816b1445a8aa96baf9511028a",
       "version_major": 2,
       "version_minor": 0
      },
      "text/plain": [
       "interactive(children=(Dropdown(description='num_dataset', options=(('Chlorophyll-model', 1), ('Chlorophyll-sat…"
      ]
     },
     "metadata": {},
     "output_type": "display_data"
    },
    {
     "name": "stdout",
     "output_type": "stream",
     "text": [
      "----------------------------------------------------------------------------------------------\n"
     ]
    }
   ],
   "source": [
    "print('Choose dataset')\n",
    "interact_manual(select_dataset, num_dataset=[('Chlorophyll-model', 1), ('Chlorophyll-satellite', 2), ('Oxygen-model', 3), ('Nitrate-model', 4), ('Phosphate-model', 5), ('Suspended matter-satellite', 6)])\n",
    "print('----------------------------------------------------------------------------------------------')"
   ]
  },
  {
   "cell_type": "code",
   "execution_count": 6,
   "metadata": {},
   "outputs": [
    {
     "name": "stdout",
     "output_type": "stream",
     "text": [
      "IMPORTANT: Read the dataset (previous cell) before running this cell for the first time\n",
      "Plot the timeseries of the dataset in the closest coordinates from the selected coordinates\n"
     ]
    },
    {
     "data": {
      "application/vnd.jupyter.widget-view+json": {
       "model_id": "ecac6717b77443bda94434ed84db6a1a",
       "version_major": 2,
       "version_minor": 0
      },
      "text/plain": [
       "interactive(children=(FloatSlider(value=54.0, continuous_update=False, description='Latitude:', max=56.0, min=…"
      ]
     },
     "metadata": {},
     "output_type": "display_data"
    },
    {
     "data": {
      "text/plain": [
       "<function __main__.plot_timeseries(lat, lon)>"
      ]
     },
     "execution_count": 6,
     "metadata": {},
     "output_type": "execute_result"
    }
   ],
   "source": [
    "print('IMPORTANT: Read the dataset (previous cell) before running this cell for the first time')\n",
    "print('Plot the timeseries of the dataset in the closest coordinates from the selected coordinates')\n",
    "lat_input = widgets.FloatSlider(\n",
    "    value=54.0,\n",
    "    min=50.0,\n",
    "    max=56.0,\n",
    "    step=0.1,\n",
    "    description='Latitude:',\n",
    "    continuous_update=False,\n",
    "    orientation='vertical',\n",
    "    disabled=False\n",
    ")\n",
    "\n",
    "\n",
    "lon_input = widgets.FloatSlider(\n",
    "    value=3.0,\n",
    "    min=-2.0,\n",
    "    max=10.0,\n",
    "    step=0.1,\n",
    "    description='Longitude:',\n",
    "    continuous_update=False,\n",
    "    disabled=False\n",
    ")\n",
    "interact(plot_timeseries, lat = lat_input, lon = lon_input)"
   ]
  },
  {
   "cell_type": "code",
   "execution_count": null,
   "metadata": {},
   "outputs": [],
   "source": []
  }
 ],
 "metadata": {
  "kernelspec": {
   "display_name": "Python 3",
   "language": "python",
   "name": "python3"
  },
  "language_info": {
   "codemirror_mode": {
    "name": "ipython",
    "version": 3
   },
   "file_extension": ".py",
   "mimetype": "text/x-python",
   "name": "python",
   "nbconvert_exporter": "python",
   "pygments_lexer": "ipython3",
   "version": "3.8.2"
  }
 },
 "nbformat": 4,
 "nbformat_minor": 4
}
